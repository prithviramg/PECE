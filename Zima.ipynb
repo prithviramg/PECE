{
 "cells": [
  {
   "cell_type": "code",
   "execution_count": null,
   "metadata": {},
   "outputs": [],
   "source": [
    "from kiteconnect import KiteConnect, KiteTicker\n",
    "import datetime as dt\n",
    "import pprint\n",
    "import pandas as pd\n",
    "import time\n",
    "from prettytable import PrettyTable\n",
    "import winsound\n",
    "from IPython.display import clear_output\n",
    "import pickle\n",
    "from cryptography.fernet import Fernet\n",
    "import logging\n",
    "logging.basicConfig(\n",
    "    level=logging.INFO,\n",
    "    format='%(asctime)s | %(lineno)d | %(message)s',\n",
    "    handlers=[\n",
    "        logging.FileHandler(\"logs/{}.log\".format(dt.date.today().strftime(\"%Y_%m_%d\"))),\n",
    "        logging.StreamHandler()\n",
    "    ]\n",
    ")\n",
    "log = logging.getLogger()"
   ]
  },
  {
   "cell_type": "code",
   "execution_count": 2,
   "metadata": {},
   "outputs": [],
   "source": [
    "def logDaysPnL():\n",
    "    tempdf = pd.DataFrame(kite.positions()['day'])\n",
    "    tempdf = tempdf[['tradingsymbol', 'day_buy_quantity', 'day_buy_price', 'day_sell_quantity', 'day_sell_price', 'pnl']]\n",
    "    table = PrettyTable()\n",
    "    table.field_names = tempdf.columns.tolist()\n",
    "    for row in tempdf.itertuples(index=False):\n",
    "        table.add_row(row)\n",
    "    log.info(\"\\n\"+table.get_string())\n",
    "    "
   ]
  },
  {
   "cell_type": "code",
   "execution_count": 3,
   "metadata": {},
   "outputs": [],
   "source": [
    "with open(\"syek_ogla.key\", \"rb\") as key_file:\n",
    "    key = key_file.read()\n",
    "cipher = Fernet(key)\n",
    "with open(\"syek_ogla.bin\", \"rb\") as file:\n",
    "    kite_credentials = pickle.loads(cipher.decrypt(file.read()))"
   ]
  },
  {
   "cell_type": "code",
   "execution_count": 4,
   "metadata": {},
   "outputs": [
    {
     "name": "stdout",
     "output_type": "stream",
     "text": [
      "https://kite.zerodha.com/connect/login?api_key=onrrp2354dne35g4&v=3\n"
     ]
    }
   ],
   "source": [
    "kite = KiteConnect(api_key= kite_credentials[0])\n",
    "print(kite.login_url())"
   ]
  },
  {
   "cell_type": "code",
   "execution_count": 5,
   "metadata": {},
   "outputs": [
    {
     "name": "stderr",
     "output_type": "stream",
     "text": [
      "2024-11-29 09:48:25,321 | 3 | logged into session\n"
     ]
    },
    {
     "name": "stdout",
     "output_type": "stream",
     "text": [
      "{'avatar_url': None,\n",
      " 'broker': 'ZERODHA',\n",
      " 'email': '93prithvi@gmail.com',\n",
      " 'exchanges': ['MF', 'BSE', 'NSE', 'BFO', 'NFO', 'BCD'],\n",
      " 'meta': {'demat_consent': 'physical'},\n",
      " 'order_types': ['MARKET', 'LIMIT', 'SL', 'SL-M'],\n",
      " 'products': ['CNC', 'NRML', 'MIS', 'BO', 'CO'],\n",
      " 'user_id': 'XF6031',\n",
      " 'user_name': 'Prithvi Ram Grandhi',\n",
      " 'user_shortname': 'Prithvi',\n",
      " 'user_type': 'individual/ind_with_nom'}\n"
     ]
    }
   ],
   "source": [
    "data = kite.generate_session(\"7z4rJFmsJMHsZKXQNqgs8mYTk9r0y7gs\", api_secret=kite_credentials[1])\n",
    "kite.set_access_token(data[\"access_token\"])\n",
    "log.info(\"logged into session\")\n",
    "pprint.pprint(kite.profile())"
   ]
  },
  {
   "cell_type": "code",
   "execution_count": 6,
   "metadata": {},
   "outputs": [
    {
     "name": "stdout",
     "output_type": "stream",
     "text": [
      "   exchange_timestamp      tradingsymbol transaction_type  quantity\n",
      "0 2024-11-29 09:49:08  NIFTY24D0524050PE             SELL       100\n",
      "1 2024-11-29 09:49:08  NIFTY24D0524050CE             SELL       100\n"
     ]
    }
   ],
   "source": [
    "try:\n",
    "    zerodha_orders = pd.DataFrame(kite.orders())\n",
    "    print(zerodha_orders[['exchange_timestamp', 'tradingsymbol', 'transaction_type','quantity']])\n",
    "except KeyError:\n",
    "    raise(\"!!!!!!!!!!!!!!no orders are placed, please stop executing remaining cells!!!!!!!!!\")\n",
    "except Exception as e:\n",
    "    print(f\"An error occurred: {e}\")\n"
   ]
  },
  {
   "cell_type": "code",
   "execution_count": 9,
   "metadata": {},
   "outputs": [
    {
     "name": "stderr",
     "output_type": "stream",
     "text": [
      "2024-11-29 09:49:40,358 | 8 | ---------------------------------------------------------------------------------\n",
      "2024-11-29 09:49:40,360 | 9 | NIFTY24DECFUT is selected, with qty of 100 for strikes NIFTY24D0524050PE and NIFTY24D0524050CE\n"
     ]
    }
   ],
   "source": [
    "putSymbol = \"NIFTY24D0524050PE\"#\"BANKNIFTY2430647400PE\"\n",
    "callSymbol = \"NIFTY24D0524050CE\"\n",
    "future = \"NIFTY24DECFUT\"#\"NIFTY24NOVFUT\"#\"BANKNIFTY24NOVFUT\"#\"FINNIFTY24NOVFUT\"#\"MIDCPNIFTY24NOVFUT\"\n",
    "qty = 100\n",
    "SL_JUMP_LIMIT = 5\n",
    "oneLegSL = 10\n",
    "lowerBandwidth = 20\n",
    "log.info(\"---------------------------------------------------------------------------------\")\n",
    "log.info(f\"{future} is selected, with qty of {qty} for strikes {putSymbol} and {callSymbol}\")"
   ]
  },
  {
   "cell_type": "code",
   "execution_count": 10,
   "metadata": {},
   "outputs": [
    {
     "name": "stderr",
     "output_type": "stream",
     "text": [
      "2024-11-29 09:49:41,422 | 5 | ---------------------------------------------------------------------------------\n",
      "2024-11-29 09:49:41,422 | 6 | NIFTY24D0524050CE(210.8) + NIFTY24D0524050PE(182.55) = 393.35\n",
      "2024-11-29 09:49:41,422 | 7 | current set threshold is 72.85\n",
      "2024-11-29 09:49:41,525 | 8 | current NIFTY24DECFUT price is 24190\n"
     ]
    }
   ],
   "source": [
    "callPrice = kite.ltp(\"NFO:\"+callSymbol)[\"NFO:\"+callSymbol]['last_price']\n",
    "putPrice = kite.ltp(\"NFO:\"+putSymbol)[\"NFO:\"+putSymbol]['last_price']\n",
    "with open('threshold.txt') as f:\n",
    "    threshold = float(f.readlines()[0])\n",
    "log.info(\"---------------------------------------------------------------------------------\")    \n",
    "log.info(f\"{callSymbol}({callPrice}) + {putSymbol}({putPrice}) = {callPrice + putPrice}\")\n",
    "log.info(f\"current set threshold is {threshold}\")\n",
    "log.info(f\"current {future} price is {kite.ltp('NFO:'+future)['NFO:'+future]['last_price']}\")"
   ]
  },
  {
   "cell_type": "code",
   "execution_count": 11,
   "metadata": {},
   "outputs": [],
   "source": [
    "exitedCall, exitedPut= False, False\n",
    "def placeOrder(tradeSymbol, qty, transactionType):\n",
    "    try:\n",
    "        kite.place_order(variety=kite.VARIETY_REGULAR, exchange=kite.EXCHANGE_NFO, tradingsymbol=tradeSymbol,\n",
    "                    transaction_type=transactionType, quantity=qty, product=kite.PRODUCT_NRML, order_type=kite.ORDER_TYPE_MARKET,\n",
    "                    price=None, validity=None, disclosed_quantity=None, trigger_price=None, tag = \"vscode\")\n",
    "        winsound.Beep(frequency=2000, duration=500)\n",
    "        print(f\"current {tradeSymbol} price is {kite.ltp('NFO:'+tradeSymbol)['NFO:'+tradeSymbol]['last_price']}\")\n",
    "        log.info(\"---------------------------------------------------------------------------------\")\n",
    "        log.info(f\"current {tradeSymbol} price is {kite.ltp('NFO:'+tradeSymbol)['NFO:'+tradeSymbol]['last_price']}\")\n",
    "        print(f\"{qty} qty {transactionType} order placed for symbol: {tradeSymbol} at {dt.datetime.now().strftime('%H:%M:%S')}\")\n",
    "        log.info(f\"{qty} qty {transactionType} order placed for symbol: {tradeSymbol} at {dt.datetime.now().strftime('%H:%M:%S')}\")\n",
    "    except Exception as e:\n",
    "        winsound.Beep(frequency=1000, duration=200)\n",
    "        winsound.Beep(frequency=1000, duration=200)\n",
    "        log.info(\"---------------------------------------------------------------------------------\")\n",
    "        print(f\"an error occured, please check manually : {e}\")\n",
    "        log.info(f\"an error occured, please check manually : {e}\")"
   ]
  },
  {
   "cell_type": "code",
   "execution_count": 12,
   "metadata": {},
   "outputs": [
    {
     "name": "stderr",
     "output_type": "stream",
     "text": [
      "2024-11-29 10:45:01,877 | 9 | ---------------------------------------------------------------------------------\n",
      "2024-11-29 10:45:01,993 | 10 | current NIFTY24D0524050PE price is 159.85\n",
      "2024-11-29 10:45:01,994 | 12 | 100 qty BUY order placed for symbol: NIFTY24D0524050PE at 10:45:01\n",
      "2024-11-29 10:45:01,994 | 24 | ---------------------------------------------------------------------------------\n",
      "2024-11-29 10:45:01,995 | 25 | Trading ended thank you!!!!\n"
     ]
    },
    {
     "name": "stdout",
     "output_type": "stream",
     "text": [
      "current NIFTY24D0524050PE price is 159.85\n",
      "100 qty BUY order placed for symbol: NIFTY24D0524050PE at 10:45:01\n"
     ]
    },
    {
     "name": "stderr",
     "output_type": "stream",
     "text": [
      "2024-11-29 10:45:02,107 | 8 | \n",
      "+-------------------+------------------+---------------+-------------------+----------------+-------+\n",
      "|   tradingsymbol   | day_buy_quantity | day_buy_price | day_sell_quantity | day_sell_price |  pnl  |\n",
      "+-------------------+------------------+---------------+-------------------+----------------+-------+\n",
      "| NIFTY24D0524050CE |       100        |     258.25    |        100        |     204.3      | -5395 |\n",
      "| NIFTY24D0524050PE |       100        |     160.15    |        100        |     188.15     |  2800 |\n",
      "+-------------------+------------------+---------------+-------------------+----------------+-------+\n"
     ]
    }
   ],
   "source": [
    "while True:\n",
    "    callPrice = 0 if exitedCall else kite.ltp(\"NFO:\"+callSymbol)[\"NFO:\"+callSymbol]['last_price']\n",
    "    putPrice = 0 if exitedPut else kite.ltp(\"NFO:\"+putSymbol)[\"NFO:\"+putSymbol]['last_price']\n",
    "    with open('threshold.txt') as f:\n",
    "        threshold = float(f.readlines()[0])\n",
    "    condition1 = (callPrice + putPrice) > threshold\n",
    "    condition1 = condition1 and (0 <= dt.datetime.now().second < 10)\n",
    "    condition2 = (callPrice + putPrice) > (SL_JUMP_LIMIT + threshold)\n",
    "    condition3 = condition1 or condition2\n",
    "    if condition3:\n",
    "        if condition2:\n",
    "            log.info(\"---------------------------------------------------------------------------------\")\n",
    "            log.info(\"##################### sudden spike in price be carefull !!! #####################\")\n",
    "            log.info(\"##################### sudden spike in price be carefull !!! #####################\")\n",
    "            log.info(\"##################### sudden spike in price be carefull !!! #####################\")\n",
    "        log.info(\"---------------------------------------------------------------------------------\")\n",
    "        log.info(f\"call price({callPrice}) + put price({putPrice}) = {callPrice + putPrice}\")\n",
    "        log.info(f\"current set threshold is {threshold}\")\n",
    "        log.info(f\"current {future} price is {kite.ltp('NFO:'+future)['NFO:'+future]['last_price']}\")\n",
    "        clear_output(wait=True)\n",
    "        if exitedCall:\n",
    "            placeOrder(putSymbol, qty, kite.TRANSACTION_TYPE_BUY)\n",
    "            exitedPut = True\n",
    "            log.info(\"---------------------------------------------------------------------------------\")\n",
    "            log.info(f\"Trading ended thank you!!!!\")\n",
    "            logDaysPnL()\n",
    "            break\n",
    "\n",
    "        elif exitedPut:\n",
    "            placeOrder(callSymbol, qty, kite.TRANSACTION_TYPE_BUY)\n",
    "            exitedCall = True\n",
    "            log.info(\"---------------------------------------------------------------------------------\")\n",
    "            log.info(f\"Trading ended thank you!!!!\")\n",
    "            logDaysPnL()\n",
    "            break\n",
    "\n",
    "        else:\n",
    "            if callPrice > putPrice:\n",
    "                placeOrder(callSymbol, qty, kite.TRANSACTION_TYPE_BUY)\n",
    "                with open('threshold.txt', 'w') as f:\n",
    "                    f.write(str(float(putPrice) + oneLegSL))\n",
    "                exitedCall = True\n",
    "                lowerBandwidth = lowerBandwidth/2\n",
    "                log.info(\"---------------------------------------------------------------------------------\")\n",
    "                log.info(f\"exited call leg - {callSymbol}\")\n",
    "                log.info(f\"changed the put leg threshold to putPrice({float(putPrice)}) + oneLegSL({oneLegSL}) = {float(putPrice) + oneLegSL}\")\n",
    "                log.info(f\"changed the lowerBandwidth to {lowerBandwidth}\")\n",
    "            else:\n",
    "                placeOrder(putSymbol, qty, kite.TRANSACTION_TYPE_BUY)\n",
    "                with open('threshold.txt', 'w') as f:\n",
    "                    f.write(str(float(callPrice) + oneLegSL))\n",
    "                exitedPut = True  \n",
    "                lowerBandwidth = lowerBandwidth/2\n",
    "                log.info(\"---------------------------------------------------------------------------------\")\n",
    "                log.info(f\"exited put leg - {callSymbol}\")\n",
    "                log.info(f\"changed the call leg threshold to callPrice({float(callPrice)}) + oneLegSL({oneLegSL}) = {float(callPrice) + oneLegSL}\")\n",
    "                log.info(f\"changed the lowerBandwidth to {lowerBandwidth}\")\n",
    "        time.sleep(10)  \n",
    "    elif ((callPrice + putPrice) < (threshold-lowerBandwidth)) and (0 <= dt.datetime.now().second < 10):\n",
    "        log.info(\"---------------------------------------------------------------------------------\")\n",
    "        log.info(f\"call price {callPrice} + put price {putPrice} = {callPrice + putPrice}\")\n",
    "        log.info(f\"(lower limit) set threshold({threshold}) - lowerBandwidth({lowerBandwidth}) is {threshold-lowerBandwidth}\")\n",
    "        log.info(f\"current {future} price is {kite.ltp('NFO:'+future)['NFO:'+future]['last_price']}\")\n",
    "        with open('threshold.txt', 'w') as f:\n",
    "            f.write(str(float((callPrice + putPrice)+(lowerBandwidth/2))))      \n",
    "        log.info(f\"(upper limit) threshold to new value - callPrice({callPrice}) + putPrice({putPrice}) + LowerBandwidth({lowerBandwidth})/2 = {float((callPrice + putPrice)+(lowerBandwidth/2))}\") \n",
    "        time.sleep(4)\n",
    "    else:\n",
    "        clear_output(wait=True)\n",
    "        print(f\"call price {callPrice} + put price {putPrice} = {callPrice + putPrice}\")\n",
    "        print(f\"current set threshold is {threshold}\")\n",
    "        print(f\"current lowerBandwidth price is {threshold-lowerBandwidth}\")\n",
    "        print(f\"current {future} price is {kite.ltp('NFO:'+future)['NFO:'+future]['last_price']}\")\n",
    "        time.sleep(4)"
   ]
  },
  {
   "cell_type": "code",
   "execution_count": 11,
   "metadata": {},
   "outputs": [
    {
     "name": "stderr",
     "output_type": "stream",
     "text": [
      "2024-11-19 10:25:50,160 | 8 | \n",
      "+-------------------+------------------+---------------+-------------------+----------------+-------+\n",
      "|   tradingsymbol   | day_buy_quantity | day_buy_price | day_sell_quantity | day_sell_price |  pnl  |\n",
      "+-------------------+------------------+---------------+-------------------+----------------+-------+\n",
      "| NIFTY24N2123650CE |       100        |     149.0     |        100        |     116.2      | -3280 |\n",
      "| NIFTY24N2123650PE |       100        |      62.6     |        100        |     103.65     |  4105 |\n",
      "+-------------------+------------------+---------------+-------------------+----------------+-------+\n"
     ]
    }
   ],
   "source": [
    "logDaysPnL()"
   ]
  },
  {
   "cell_type": "code",
   "execution_count": 25,
   "metadata": {},
   "outputs": [
    {
     "data": {
      "text/plain": [
       "{'buy': [{'price': 95.55, 'quantity': 250, 'orders': 5},\n",
       "  {'price': 95.5, 'quantity': 425, 'orders': 4},\n",
       "  {'price': 95.45, 'quantity': 675, 'orders': 6},\n",
       "  {'price': 95.4, 'quantity': 450, 'orders': 5},\n",
       "  {'price': 95.35, 'quantity': 275, 'orders': 5}],\n",
       " 'sell': [{'price': 95.7, 'quantity': 25, 'orders': 1},\n",
       "  {'price': 95.9, 'quantity': 50, 'orders': 1},\n",
       "  {'price': 95.95, 'quantity': 375, 'orders': 5},\n",
       "  {'price': 96, 'quantity': 475, 'orders': 3},\n",
       "  {'price': 96.05, 'quantity': 425, 'orders': 4}]}"
      ]
     },
     "execution_count": 25,
     "metadata": {},
     "output_type": "execute_result"
    }
   ],
   "source": [
    "kite.quote(\"NFO:FINNIFTY24OCT24000PE\")[\"NFO:FINNIFTY24OCT24000PE\"]['depth']"
   ]
  },
  {
   "cell_type": "code",
   "execution_count": null,
   "metadata": {},
   "outputs": [],
   "source": []
  },
  {
   "cell_type": "code",
   "execution_count": null,
   "metadata": {},
   "outputs": [],
   "source": []
  },
  {
   "cell_type": "code",
   "execution_count": null,
   "metadata": {},
   "outputs": [],
   "source": []
  },
  {
   "cell_type": "code",
   "execution_count": 30,
   "metadata": {},
   "outputs": [
    {
     "name": "stdout",
     "output_type": "stream",
     "text": [
      "Current straddle:  111.0\n",
      "trading ended, Thanks!!!\n",
      "240718201421013\n",
      "240718201421045\n"
     ]
    }
   ],
   "source": [
    "while True:\n",
    "    currStraddlePrice = kite.ltp(\"NFO:\"+putSymbol)[\"NFO:\"+putSymbol]['last_price'] + kite.ltp(\"NFO:\"+callSymbol)[\"NFO:\"+callSymbol]['last_price']\n",
    "    if (currStraddlePrice > threshold) and (0 <= dt.datetime.now().second < 5):\n",
    "        order1 = kite.place_order(variety=kite.VARIETY_REGULAR, exchange=kite.EXCHANGE_NFO, tradingsymbol=putSymbol, \n",
    "                                  transaction_type=kite.TRANSACTION_TYPE_BUY, quantity=qty, product=kite.PRODUCT_NRML, order_type=kite.ORDER_TYPE_MARKET, \n",
    "                                  price=None, validity=None, disclosed_quantity=None, trigger_price=None, tag = \"vscode\")\n",
    "        order2 = kite.place_order(variety=kite.VARIETY_REGULAR, exchange=kite.EXCHANGE_NFO, tradingsymbol=callSymbol,\n",
    "                                  transaction_type=kite.TRANSACTION_TYPE_BUY, quantity=qty, product=kite.PRODUCT_NRML, order_type=kite.ORDER_TYPE_MARKET,\n",
    "                                  price=None, validity=None, disclosed_quantity=None, trigger_price=None, tag = \"vscode\")\n",
    "        winsound.Beep(frequency=2000, duration=500)\n",
    "        clear_output(wait=True)\n",
    "        print(\"Current straddle: \", currStraddlePrice)\n",
    "        print(\"current time: \", dt.datetime.now())\n",
    "        print(\"trading ended, Thanks!!!\")\n",
    "        print(order1)\n",
    "        print(order2)\n",
    "        break\n",
    "    else:\n",
    "        clear_output(wait=True)\n",
    "        print(\"Current straddle: \", currStraddlePrice)\n",
    "        print(\"threshold: \",threshold)\n",
    "        print(\"Future: \", kite.ltp(\"NFO:\"+future)[\"NFO:\"+future]['last_price'])\n",
    "        time.sleep(5)"
   ]
  },
  {
   "cell_type": "code",
   "execution_count": 38,
   "metadata": {},
   "outputs": [],
   "source": [
    "import pickle\n",
    "from cryptography.fernet import Fernet\n",
    "key = Fernet.generate_key()\n",
    "cipher = Fernet(key)\n",
    "algo_keys = ['onre35g4', '0ftdvcqe3m']\n",
    "encrypted_data = cipher.encrypt(pickle.dumps(algo_keys))\n",
    "with open(\"syek_ogla.bin\",\"wb\") as file:\n",
    "    file.write(encrypted_data)\n",
    "with open(\"syek_ogla.key\", \"wb\") as keyfile:\n",
    "    keyfile.write(key)"
   ]
  },
  {
   "cell_type": "code",
   "execution_count": 47,
   "metadata": {},
   "outputs": [],
   "source": []
  },
  {
   "cell_type": "code",
   "execution_count": null,
   "metadata": {},
   "outputs": [],
   "source": []
  },
  {
   "cell_type": "code",
   "execution_count": null,
   "metadata": {},
   "outputs": [],
   "source": []
  }
 ],
 "metadata": {
  "kernelspec": {
   "display_name": "Python 3",
   "language": "python",
   "name": "python3"
  },
  "language_info": {
   "codemirror_mode": {
    "name": "ipython",
    "version": 3
   },
   "file_extension": ".py",
   "mimetype": "text/x-python",
   "name": "python",
   "nbconvert_exporter": "python",
   "pygments_lexer": "ipython3",
   "version": "3.10.7"
  }
 },
 "nbformat": 4,
 "nbformat_minor": 2
}
