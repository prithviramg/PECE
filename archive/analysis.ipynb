{
 "cells": [
  {
   "cell_type": "code",
   "execution_count": 2,
   "metadata": {},
   "outputs": [],
   "source": [
    "import numpy as np\n",
    "import pandas as pd\n",
    "import datetime\n",
    "import sqlite3"
   ]
  },
  {
   "cell_type": "code",
   "execution_count": 62,
   "metadata": {},
   "outputs": [],
   "source": [
    "tradesTaken = pd.read_csv(\"tradesTakenGrid100.csv\")"
   ]
  },
  {
   "cell_type": "code",
   "execution_count": 66,
   "metadata": {},
   "outputs": [],
   "source": [
    "tradesTaken['strikeGain'] = (tradesTaken['gainCE'] + tradesTaken['gainPE'])*-50"
   ]
  },
  {
   "cell_type": "code",
   "execution_count": 67,
   "metadata": {},
   "outputs": [
    {
     "data": {
      "text/html": [
       "<div>\n",
       "<style scoped>\n",
       "    .dataframe tbody tr th:only-of-type {\n",
       "        vertical-align: middle;\n",
       "    }\n",
       "\n",
       "    .dataframe tbody tr th {\n",
       "        vertical-align: top;\n",
       "    }\n",
       "\n",
       "    .dataframe thead th {\n",
       "        text-align: right;\n",
       "    }\n",
       "</style>\n",
       "<table border=\"1\" class=\"dataframe\">\n",
       "  <thead>\n",
       "    <tr style=\"text-align: right;\">\n",
       "      <th></th>\n",
       "      <th>Unnamed: 0</th>\n",
       "      <th>level_0</th>\n",
       "      <th>index</th>\n",
       "      <th>date</th>\n",
       "      <th>time</th>\n",
       "      <th>symbol</th>\n",
       "      <th>open</th>\n",
       "      <th>high</th>\n",
       "      <th>low</th>\n",
       "      <th>close</th>\n",
       "      <th>...</th>\n",
       "      <th>strikePrice</th>\n",
       "      <th>entryPriceCE</th>\n",
       "      <th>exitPriceCE</th>\n",
       "      <th>gainCE</th>\n",
       "      <th>exitTimeCE</th>\n",
       "      <th>entryPricePE</th>\n",
       "      <th>exitPricePE</th>\n",
       "      <th>gainPE</th>\n",
       "      <th>exitTimePE</th>\n",
       "      <th>strikeGain</th>\n",
       "    </tr>\n",
       "  </thead>\n",
       "  <tbody>\n",
       "    <tr>\n",
       "      <th>0</th>\n",
       "      <td>0</td>\n",
       "      <td>15</td>\n",
       "      <td>492</td>\n",
       "      <td>2019-02-11</td>\n",
       "      <td>09:30:00</td>\n",
       "      <td>NIFTY</td>\n",
       "      <td>10880.40</td>\n",
       "      <td>10880.40</td>\n",
       "      <td>10874.05</td>\n",
       "      <td>10877.25</td>\n",
       "      <td>...</td>\n",
       "      <td>10900</td>\n",
       "      <td>-53.00</td>\n",
       "      <td>59.55</td>\n",
       "      <td>6.55</td>\n",
       "      <td>15:29:00</td>\n",
       "      <td>-75.40</td>\n",
       "      <td>47.45</td>\n",
       "      <td>-27.95</td>\n",
       "      <td>15:29:00</td>\n",
       "      <td>1070.0</td>\n",
       "    </tr>\n",
       "    <tr>\n",
       "      <th>1</th>\n",
       "      <td>0</td>\n",
       "      <td>15</td>\n",
       "      <td>499</td>\n",
       "      <td>2020-01-01</td>\n",
       "      <td>09:30:00</td>\n",
       "      <td>NIFTY</td>\n",
       "      <td>12221.65</td>\n",
       "      <td>12221.90</td>\n",
       "      <td>12218.60</td>\n",
       "      <td>12219.05</td>\n",
       "      <td>...</td>\n",
       "      <td>12200</td>\n",
       "      <td>-41.60</td>\n",
       "      <td>24.25</td>\n",
       "      <td>-17.35</td>\n",
       "      <td>15:29:00</td>\n",
       "      <td>-26.35</td>\n",
       "      <td>26.60</td>\n",
       "      <td>0.25</td>\n",
       "      <td>15:29:00</td>\n",
       "      <td>855.0</td>\n",
       "    </tr>\n",
       "    <tr>\n",
       "      <th>2</th>\n",
       "      <td>0</td>\n",
       "      <td>15</td>\n",
       "      <td>483</td>\n",
       "      <td>2020-01-02</td>\n",
       "      <td>09:30:00</td>\n",
       "      <td>NIFTY</td>\n",
       "      <td>12224.25</td>\n",
       "      <td>12228.50</td>\n",
       "      <td>12223.35</td>\n",
       "      <td>12228.45</td>\n",
       "      <td>...</td>\n",
       "      <td>12200</td>\n",
       "      <td>-33.55</td>\n",
       "      <td>82.45</td>\n",
       "      <td>48.90</td>\n",
       "      <td>15:29:00</td>\n",
       "      <td>-11.65</td>\n",
       "      <td>0.05</td>\n",
       "      <td>-11.60</td>\n",
       "      <td>15:29:00</td>\n",
       "      <td>-1865.0</td>\n",
       "    </tr>\n",
       "    <tr>\n",
       "      <th>3</th>\n",
       "      <td>0</td>\n",
       "      <td>15</td>\n",
       "      <td>566</td>\n",
       "      <td>2020-01-03</td>\n",
       "      <td>09:30:00</td>\n",
       "      <td>NIFTY</td>\n",
       "      <td>12251.25</td>\n",
       "      <td>12251.25</td>\n",
       "      <td>12242.25</td>\n",
       "      <td>12242.50</td>\n",
       "      <td>...</td>\n",
       "      <td>12300</td>\n",
       "      <td>-35.80</td>\n",
       "      <td>29.75</td>\n",
       "      <td>-6.05</td>\n",
       "      <td>15:29:00</td>\n",
       "      <td>-93.65</td>\n",
       "      <td>122.85</td>\n",
       "      <td>29.20</td>\n",
       "      <td>14:50:00</td>\n",
       "      <td>-1157.5</td>\n",
       "    </tr>\n",
       "    <tr>\n",
       "      <th>4</th>\n",
       "      <td>1</td>\n",
       "      <td>335</td>\n",
       "      <td>10863</td>\n",
       "      <td>2020-01-03</td>\n",
       "      <td>14:50:00</td>\n",
       "      <td>NIFTY</td>\n",
       "      <td>12205.00</td>\n",
       "      <td>12205.00</td>\n",
       "      <td>12195.15</td>\n",
       "      <td>12197.20</td>\n",
       "      <td>...</td>\n",
       "      <td>12200</td>\n",
       "      <td>-63.30</td>\n",
       "      <td>76.00</td>\n",
       "      <td>12.70</td>\n",
       "      <td>15:29:00</td>\n",
       "      <td>-61.30</td>\n",
       "      <td>50.80</td>\n",
       "      <td>-10.50</td>\n",
       "      <td>15:29:00</td>\n",
       "      <td>-110.0</td>\n",
       "    </tr>\n",
       "  </tbody>\n",
       "</table>\n",
       "<p>5 rows × 22 columns</p>\n",
       "</div>"
      ],
      "text/plain": [
       "   Unnamed: 0  level_0  index        date      time symbol      open  \\\n",
       "0           0       15    492  2019-02-11  09:30:00  NIFTY  10880.40   \n",
       "1           0       15    499  2020-01-01  09:30:00  NIFTY  12221.65   \n",
       "2           0       15    483  2020-01-02  09:30:00  NIFTY  12224.25   \n",
       "3           0       15    566  2020-01-03  09:30:00  NIFTY  12251.25   \n",
       "4           1      335  10863  2020-01-03  14:50:00  NIFTY  12205.00   \n",
       "\n",
       "       high       low     close  ...  strikePrice  entryPriceCE  exitPriceCE  \\\n",
       "0  10880.40  10874.05  10877.25  ...        10900        -53.00        59.55   \n",
       "1  12221.90  12218.60  12219.05  ...        12200        -41.60        24.25   \n",
       "2  12228.50  12223.35  12228.45  ...        12200        -33.55        82.45   \n",
       "3  12251.25  12242.25  12242.50  ...        12300        -35.80        29.75   \n",
       "4  12205.00  12195.15  12197.20  ...        12200        -63.30        76.00   \n",
       "\n",
       "   gainCE  exitTimeCE  entryPricePE exitPricePE  gainPE  exitTimePE  \\\n",
       "0    6.55    15:29:00        -75.40       47.45  -27.95    15:29:00   \n",
       "1  -17.35    15:29:00        -26.35       26.60    0.25    15:29:00   \n",
       "2   48.90    15:29:00        -11.65        0.05  -11.60    15:29:00   \n",
       "3   -6.05    15:29:00        -93.65      122.85   29.20    14:50:00   \n",
       "4   12.70    15:29:00        -61.30       50.80  -10.50    15:29:00   \n",
       "\n",
       "   strikeGain  \n",
       "0      1070.0  \n",
       "1       855.0  \n",
       "2     -1865.0  \n",
       "3     -1157.5  \n",
       "4      -110.0  \n",
       "\n",
       "[5 rows x 22 columns]"
      ]
     },
     "execution_count": 67,
     "metadata": {},
     "output_type": "execute_result"
    }
   ],
   "source": [
    "tradesTaken.head()"
   ]
  },
  {
   "cell_type": "code",
   "execution_count": 99,
   "metadata": {},
   "outputs": [],
   "source": [
    "dayGain = {}\n",
    "dayGain['date'] = []\n",
    "dayGain['gain'] = []\n",
    "dayGain['nTrades'] = []"
   ]
  },
  {
   "cell_type": "code",
   "execution_count": 100,
   "metadata": {},
   "outputs": [
    {
     "name": "stdout",
     "output_type": "stream",
     "text": [
      "   Unnamed: 0  level_0  index        date      time symbol     open     high  \\\n",
      "0           0       15    492  2019-02-11  09:30:00  NIFTY  10880.4  10880.4   \n",
      "\n",
      "        low     close  ...  strikePrice  entryPriceCE  exitPriceCE  gainCE  \\\n",
      "0  10874.05  10877.25  ...        10900         -53.0        59.55    6.55   \n",
      "\n",
      "   exitTimeCE  entryPricePE exitPricePE  gainPE  exitTimePE  strikeGain  \n",
      "0    15:29:00         -75.4       47.45  -27.95    15:29:00      1070.0  \n",
      "\n",
      "[1 rows x 22 columns]\n",
      "   Unnamed: 0  level_0  index        date      time symbol      open     high  \\\n",
      "1           0       15    499  2020-01-01  09:30:00  NIFTY  12221.65  12221.9   \n",
      "\n",
      "       low     close  ...  strikePrice  entryPriceCE  exitPriceCE  gainCE  \\\n",
      "1  12218.6  12219.05  ...        12200         -41.6        24.25  -17.35   \n",
      "\n",
      "   exitTimeCE  entryPricePE exitPricePE  gainPE  exitTimePE  strikeGain  \n",
      "1    15:29:00        -26.35        26.6    0.25    15:29:00       855.0  \n",
      "\n",
      "[1 rows x 22 columns]\n"
     ]
    }
   ],
   "source": [
    "for eachDate in tradesTaken.date.unique()[:2]:\n",
    "    tempdf = tradesTaken[tradesTaken['date'] == eachDate]\n",
    "    print(tempdf.head())\n",
    "    perDayGain = tempdf['strikeGain'].sum()\n",
    "    dayGain['nTrades'] = len(tempdf)\n",
    "    dayGain['date'].append(str(eachDate))\n",
    "    dayGain['gain'].append(perDayGain)"
   ]
  },
  {
   "cell_type": "code",
   "execution_count": 91,
   "metadata": {},
   "outputs": [],
   "source": [
    "dayGain = pd.DataFrame(dayGain)"
   ]
  },
  {
   "cell_type": "code",
   "execution_count": 96,
   "metadata": {},
   "outputs": [
    {
     "data": {
      "text/plain": [
       "888"
      ]
     },
     "execution_count": 96,
     "metadata": {},
     "output_type": "execute_result"
    }
   ],
   "source": [
    "len(dayGain)"
   ]
  },
  {
   "cell_type": "code",
   "execution_count": 8,
   "metadata": {},
   "outputs": [],
   "source": [
    "dayGain = pd.read_csv(\"dayGain.csv\")"
   ]
  },
  {
   "cell_type": "code",
   "execution_count": 9,
   "metadata": {},
   "outputs": [],
   "source": [
    "dayGain['date'] = pd.to_datetime(dayGain['date'], format='%d-%m-%Y')\n"
   ]
  },
  {
   "cell_type": "code",
   "execution_count": 12,
   "metadata": {},
   "outputs": [],
   "source": [
    "dayGain['day'] = dayGain['date'].dt.day_of_week"
   ]
  },
  {
   "cell_type": "code",
   "execution_count": 13,
   "metadata": {},
   "outputs": [],
   "source": [
    "dayGain['day'] = dayGain['day'].map({\n",
    "    0: 'Mon',\n",
    "    1: 'Tue',\n",
    "    2: 'Wed',\n",
    "    3: 'Thu',\n",
    "    4: 'Fri',\n",
    "    5: 'Sat',\n",
    "    6: 'Sun'\n",
    "})"
   ]
  },
  {
   "cell_type": "code",
   "execution_count": 14,
   "metadata": {},
   "outputs": [],
   "source": [
    "dayGain.to_csv(\"dayGain.csv\")"
   ]
  },
  {
   "cell_type": "code",
   "execution_count": 84,
   "metadata": {},
   "outputs": [],
   "source": [
    "dayGain2023 = dayGain[(dayGain['date'] > datetime.datetime(2018,12,31)) & (dayGain['date'] < datetime.datetime(2029,1,1))]"
   ]
  },
  {
   "cell_type": "code",
   "execution_count": 85,
   "metadata": {},
   "outputs": [],
   "source": [
    "dayGain2023['gain']= dayGain2023['gain'].cumsum()\n",
    "dayGain2023['nTrades']= dayGain2023['nTrades'].cumsum()"
   ]
  },
  {
   "cell_type": "code",
   "execution_count": 101,
   "metadata": {},
   "outputs": [
    {
     "data": {
      "text/plain": [
       "<Axes: xlabel='date'>"
      ]
     },
     "execution_count": 101,
     "metadata": {},
     "output_type": "execute_result"
    },
    {
     "data": {
      "image/png": "[encoded data removed]",
      "text/plain": [
       "<Figure size 640x480 with 1 Axes>"
      ]
     },
     "metadata": {},
     "output_type": "display_data"
    }
   ],
   "source": [
    "dayGain2023.plot.line('date','gain') #100 GRID line"
   ]
  },
  {
   "cell_type": "code",
   "execution_count": 60,
   "metadata": {},
   "outputs": [
    {
     "data": {
      "text/plain": [
       "<Axes: xlabel='date'>"
      ]
     },
     "execution_count": 60,
     "metadata": {},
     "output_type": "execute_result"
    },
    {
     "data": {
      "image/png": "[encoded data removed]",
      "text/plain": [
       "<Figure size 640x480 with 1 Axes>"
      ]
     },
     "metadata": {},
     "output_type": "display_data"
    }
   ],
   "source": [
    "dayGain2023.plot.line('date','gain') #50 GRID lines"
   ]
  },
  {
   "cell_type": "code",
   "execution_count": null,
   "metadata": {},
   "outputs": [],
   "source": []
  }
 ],
 "metadata": {
  "kernelspec": {
   "display_name": "Python 3",
   "language": "python",
   "name": "python3"
  },
  "language_info": {
   "codemirror_mode": {
    "name": "ipython",
    "version": 3
   },
   "file_extension": ".py",
   "mimetype": "text/x-python",
   "name": "python",
   "nbconvert_exporter": "python",
   "pygments_lexer": "ipython3",
   "version": "3.10.7"
  }
 },
 "nbformat": 4,
 "nbformat_minor": 2
}
